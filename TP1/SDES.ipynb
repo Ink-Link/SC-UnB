{
 "cells": [
  {
   "cell_type": "markdown",
   "id": "e17778d2-19d1-4d47-9b93-ff5278247f7a",
   "metadata": {},
   "source": [
    "    O código a seguir ira executar o algoritmo SDES, que é uma versão simplificada do DES, focada no desenvolvimento para aprendizado. Irei explicar o funcionamento de função a função, afim de explicar o funcionamento geral do código.\n",
    "    "
   ]
  },
  {
   "cell_type": "code",
   "execution_count": 1,
   "id": "eadb3f2a-ad01-4397-9691-5dad7a54e06b",
   "metadata": {},
   "outputs": [],
   "source": [
    "def perm10(k): \n",
    "    chaveP = k[2]+k[4]+k[1]+k[6]+k[3]+k[9]+k[0]+k[8]+k[7]+k[5]\n",
    "    \n",
    "    print(\"Chave após a execução da função perm10:\", chaveP)\n",
    "    \n",
    "    return chaveP"
   ]
  },
  {
   "cell_type": "markdown",
   "id": "f1b92443-5518-416e-a4a3-fac4b8050a6b",
   "metadata": {},
   "source": [
    "Aqui temos a primeira permutação da chave, onde a modificamos conforme o algoritmo pedia, com os caracteres nos seus devidos lugares. No final, fazemos a demonstração de como ficou a chave, antes do retorno do valor.\n"
   ]
  },
  {
   "cell_type": "code",
   "execution_count": 2,
   "id": "ef78fa35-a7bb-4246-a1ed-14d48707a8a2",
   "metadata": {},
   "outputs": [],
   "source": [
    "def ls(k, n): # Chave, numero do shift\n",
    "        chave = \"\"\n",
    "        \n",
    "        changeList = [0 for i in range(len(k))]\n",
    "\n",
    "        for i in range(len(k)):\n",
    "            if (i - n) < 0:\n",
    "                changeList[len(k) - n + i] = k[i]\n",
    "            else:\n",
    "                changeList[i - n] = k[i]\n",
    "        \n",
    "        for bit in changeList:\n",
    "            chave += bit\n",
    "        \n",
    "        print(\"Chave após a execução da função de left shift:\", chave)\n",
    "        \n",
    "        return chave"
   ]
  },
  {
   "cell_type": "markdown",
   "id": "925bd2c0-36d9-44d4-94ee-6cd5fe4749c9",
   "metadata": {},
   "source": [
    "Aqui temos a função que faz o left shift dos caracteres. Ele pode modificar quantos caracteres a direita for determinado, como no algoritmo, que pede um shift de um e dois caracteres em diferentes momentos. Em seguida, temos o resultado após a execução da função."
   ]
  },
  {
   "cell_type": "code",
   "execution_count": 3,
   "id": "2c500737-e432-4639-801f-d367909b382e",
   "metadata": {},
   "outputs": [],
   "source": [
    "def perm8(kLS):\n",
    "    chaveP = kLS[5]+kLS[2]+kLS[6]+kLS[3]+kLS[7]+kLS[4]+kLS[9]+kLS[8]\n",
    "    \n",
    "    print(\"Chave após a execução da função perm8:\", chaveP)\n",
    "    \n",
    "    return chaveP"
   ]
  },
  {
   "cell_type": "markdown",
   "id": "8f5ad064-86a0-4a81-9fac-86107be9049d",
   "metadata": {},
   "source": [
    "A função acima faz uma permutação na chave, que modifica a ordem dos bits e retira dois deles. A seguir, mostra o resultado após a execução da função."
   ]
  },
  {
   "cell_type": "code",
   "execution_count": 4,
   "id": "7d30f896-0a6f-415b-a99e-2e6a60a4b2b5",
   "metadata": {},
   "outputs": [],
   "source": [
    "def genChave(chave): \n",
    "\n",
    "    # Primeira metade\n",
    "    c1 = chave[0:5]\n",
    "    # Segunda metade\n",
    "    c2 = chave[5:10]\n",
    "\n",
    "    c1 = ls(c1, 1)\n",
    "\n",
    "    c2 = ls(c2, 1)\n",
    "\n",
    "    k1 = c1 + c2\n",
    "    k1 = perm8(k1)\n",
    "    k2 = ls(c1, 2) + ls(c2, 2)\n",
    "    k2 = perm8(k2)\n",
    "\n",
    "    print(\"Chaves K1 e K2 criadas com a função de geração de chave:\", k1, k2)\n",
    "\n",
    "    return k1, k2"
   ]
  },
  {
   "cell_type": "markdown",
   "id": "7da76514-1352-4156-879d-8228219c1f5e",
   "metadata": {},
   "source": [
    "Aqui temos a primeira grande função. A função de geração de chave cria as subchaves K1 e K2, que serão utilizadas mais pra frente na encriptação da mensagem. Ela é criada usando a chave inicial, que é dividida em duas partes iguais(c1 e c2). C1 e C2 passam por modificações, que são feitas usando as funções de left shift de um caracter em cada. K1 se torna então a soma de C1 e C2. Logo após, C1 e C2 passam novamente por modificações, usando a função left shift, porém agora movendo dois bits ao invés de um. K2 e formado também com a soma de C1 e C2, após as devidas alterações."
   ]
  },
  {
   "cell_type": "code",
   "execution_count": 5,
   "id": "63cbb30c-5a74-47df-aa15-be547dcf6174",
   "metadata": {},
   "outputs": [],
   "source": [
    "def ip(msg):\n",
    "    msg = msg[1] + msg[5] + msg[2] + msg[0] + msg[3] + msg[7] + msg[4] + msg[6]  \n",
    "\n",
    "    print(\"Mensagem após a permutação inicial:\", msg)\n",
    "    \n",
    "    return msg"
   ]
  },
  {
   "cell_type": "markdown",
   "id": "c5c119b9-0bb4-4b8a-87e1-2a9598a91ead",
   "metadata": {
    "scrolled": true
   },
   "source": [
    "A função acima faz uma permutação na mensagem, onde os bits são alterados conforme pede o algoritmo. Logo após, é mostrado o resultado após a execução da função."
   ]
  },
  {
   "cell_type": "code",
   "execution_count": 6,
   "id": "f004060a-015b-42e8-92d5-eeb888ad8c33",
   "metadata": {},
   "outputs": [],
   "source": [
    "def xor(a, b):\n",
    "    saida = \"\"\n",
    "\n",
    "    for i in range(len(a)):\n",
    "        if a[i] == b[i]:\n",
    "            saida += \"0\"\n",
    "        else:\n",
    "            saida += \"1\"\n",
    "    return saida"
   ]
  },
  {
   "cell_type": "markdown",
   "id": "ebb33398-eba2-4a5e-9c5b-a2b0719ace56",
   "metadata": {},
   "source": [
    "A função acima faz o XOR padrão, onde quando os bits são iguais o valor de retorno é 0, e quando os valores são diferentes a saída é 1."
   ]
  },
  {
   "cell_type": "code",
   "execution_count": 7,
   "id": "dadcecd2-f4c6-42f3-bbd9-4b666c17a6a9",
   "metadata": {},
   "outputs": [],
   "source": [
    "def F(right, subchave):\n",
    "    exp = right[3] + right[0] + right[1] + right[2] + right[1] + right[2] + right[3] + right[0]\n",
    "    \n",
    "    print(\"Lado direito da mensagem após a expansão de bits:\", exp)\n",
    "\n",
    "    P = [[xor(exp[0], subchave[0]), xor(exp[1], subchave[1]), xor(exp[2], subchave[2]), xor(exp[3], subchave[3])],\n",
    "    [xor(exp[4], subchave[4]), xor(exp[5], subchave[5]), xor(exp[6], subchave[6]), xor(exp[7], subchave[7])]]\n",
    "    \n",
    "    print(\"Matriz formada através de um XOR bit a bit entre a mensagem expandida e subchave de entrada:\", P)\n",
    "\n",
    "    S0 = [[\"01\",\"00\",\"11\",\"10\"],\n",
    "          [\"11\",\"10\",\"01\",\"00\"],\n",
    "          [\"00\",\"10\",\"01\",\"11\"],\n",
    "          [\"11\",\"01\",\"11\",\"10\"]]\n",
    "\n",
    "    S1 = [[\"00\",\"01\",\"10\",\"11\"],\n",
    "          [\"10\",\"00\",\"01\",\"11\"],\n",
    "          [\"11\",\"00\",\"01\",\"00\"],\n",
    "          [\"10\",\"01\",\"00\",\"11\"]]\n",
    "        \n",
    "    msg = S0[int(P[0][0] + P[0][3], 2)][int(P[0][1] + P[0][2], 2)] + S1[int(P[1][0] + P[1][3], 2)][int(P[1][1] + P[1][2], 2)]\n",
    "\n",
    "    msg = msg[1] + msg[3] + msg[2] + msg[0]\n",
    "    \n",
    "    print(\"Mensagem formada após a execução da função F:\", msg)\n",
    "\n",
    "    return msg"
   ]
  },
  {
   "cell_type": "markdown",
   "id": "2694c23a-5300-43d0-8ef8-6e5c50e6afa7",
   "metadata": {},
   "source": [
    "F é a função de maior complexidade no algoritmo. Ela recebe como parâmetro o lado direito da mensagem, e uma subchave, podendo ser K1 ou K2 dependendo do momento em que a função é utilizada. É feita uma expansão nos 4 caracteres da mensagem, onde é feita uma permutação junto com uma repetição de bits, conforme mostrado em *exp*. Logo após essa expansão/permutação, é criada a matriz *P*, que é formada através de um XOR bit a bit da *exp* e da subchave obtida na entrada. Agora precisamos escolher apenas 4 bits para ser a saída, para isso utilizamos as matrizes *P*, *S0* e *S1*, as famosas \"Xbox :)\". Utilizaremos os bits referentes as posições P[0][[0] e P[0][3] para decidir a linha a ser escolhida em S0, P[0][1] e P[0][2] para decidir a coluna. O mesmo para escolher o valor em S1, porém puxando a partir de P[1], com a coluna sendo a mesma que utilizada anteriormente. Após a seleção dos valores na matriz, é feita uma permutação para mudança de bits, logo depois é feito um print que mostra toda a mudança feita na função. Vale ressaltar que outros prints são feitos durante a função para demonstrar as mudanças passo a passo.\n"
   ]
  },
  {
   "cell_type": "code",
   "execution_count": 8,
   "id": "5cda6a2a-1ae0-4a6e-9d67-b57b38af1316",
   "metadata": {},
   "outputs": [],
   "source": [
    "def feistel(left, right, subchave):\n",
    "    resultado = F(right, subchave)\n",
    "\n",
    "    resultado = xor(left, resultado)\n",
    "\n",
    "    print(\"Resultado da mensagem após a rodada de Feistel:\", resultado)\n",
    "\n",
    "    return right, resultado"
   ]
  },
  {
   "cell_type": "markdown",
   "id": "1247c8a9-c12d-4c4b-859f-4c8a403c4fc2",
   "metadata": {},
   "source": [
    "Acima temos Feistel, que é a função principal do algoritmo. As entradas da função são os lados esquerdo e direito da mensagem e a subchave que será utilizada em *F*. Primeiramente, F é executado no lado utilizando o lado direito e a subchave. Logo após, um *XOR* é executado entre o lado esquerdo da mensagem e o resultado de F. Aqui a função *Switch* não existe de maneira isolada, mas o switch é feito na saida da função, onde os valores são retorbnados em posições diferentes. Antes do retorno dos valores, é feito um print do valor após as alterações, lembrando que o algoritmo altera apenas 4 bits em uma rodada de Feistel.\n"
   ]
  },
  {
   "cell_type": "code",
   "execution_count": 9,
   "id": "e15fef54-122e-4483-8dc9-4a7f80e1038e",
   "metadata": {},
   "outputs": [],
   "source": [
    "def ipInv(msg):\n",
    "    msg = msg[3] + msg[0] + msg[2] + msg[4] + msg[6] + msg[1] + msg[7] + msg[5]\n",
    "\n",
    "    print(\"Mensagem formada após a permutação final:\", msg)\n",
    "\n",
    "    return msg\n"
   ]
  },
  {
   "cell_type": "markdown",
   "id": "99e4f4ad-f4e7-41cd-8ceb-ea3eedd70a26",
   "metadata": {},
   "source": [
    "Acima temos a função de permutação final, onde é a ultima permutação na mensagem conforme o algoritmo pede. Vale ressaltar que Ip e inversivel, e a permutação final é a Inversa de IP."
   ]
  },
  {
   "cell_type": "code",
   "execution_count": 10,
   "id": "38227b5f-b4b8-4022-8c5a-aeabd94e3f62",
   "metadata": {},
   "outputs": [],
   "source": [
    "def SDES(msg, chave):\n",
    "    k1, k2 = genChave(perm10(chave))\n",
    "\n",
    "    msg = ip(msg)\n",
    "\n",
    "    L, R = msg[0:4], msg[4:8]\n",
    "\n",
    "    L, R = feistel(L, R, k1)\n",
    "\n",
    "    R, L = feistel(L, R, k2)\n",
    "\n",
    "    resultado = ipInv(L + R)\n",
    "\n",
    "    print(\"Encriptação: \" + resultado)\n",
    "\n",
    "    return resultado"
   ]
  },
  {
   "cell_type": "markdown",
   "id": "5029931c-1f53-4a02-bdc4-8fde49c081d1",
   "metadata": {},
   "source": [
    "Com todas as funções já explicadas, iremos para a função de encriptação. Aqui temos a função que executa todas as funções que são necessárias para a encriptação da mensagem. A função funciona de modo bem simples: logo de inicio, pegamos a chave escolhida e executamos perm10. A saída já vai direto para função de geração de chave, osde são retornados os valores para K1 e K2. Logo apos, executamos a permutação inicial sobre a mensagem em claro. dividimos a mensagem em lado L e R, sendo eles os lados esquerdo e direito sucessivamente. Logo após essa divisão, é passado os lados direito e esquerdo juntamente com a subchave K1 para a função de Feistel. A saída é coloca em L e R e novamente é feita outra rodada de Feistel, porém utilizando a chave K2 como argumento invés de K1. A saída da segunda rodada é colocada em R e L, para contornar o switch final que ocorre na função, já que essa troca não deve existir na última rodada. Por fim, é executada a permutação final sobre a mensagem, e o retorno já é a men sagem encriptada."
   ]
  },
  {
   "cell_type": "code",
   "execution_count": 11,
   "id": "f8c93b06-feca-4d79-824d-a24fc446fecc",
   "metadata": {},
   "outputs": [],
   "source": [
    "def DSDES(msg, chave):\n",
    "    k1, k2 = genChave(perm10(chave))\n",
    "\n",
    "    msg = ip(msg)\n",
    "\n",
    "    L, R = msg[0:4], msg[4:8]\n",
    "\n",
    "    L, R = feistel(L, R, k2)\n",
    "\n",
    "    R, L = feistel(L, R, k1)\n",
    "\n",
    "    resultado = ipInv(L + R)\n",
    "\n",
    "    print(\"Descriptação: \" + resultado)"
   ]
  },
  {
   "cell_type": "markdown",
   "id": "4bea93b1-2c0b-440c-a97a-b1af6c987aa9",
   "metadata": {},
   "source": [
    "Aqui temos o código de descriptografia do SDES. Para evitar a repetição de informações, a função DSDES é basicamente a mesma coisa que a função de encriptação, mudando somente a ordem das subchaves utilizadas em Feistel. (Tirei o retorno fi"
   ]
  },
  {
   "cell_type": "code",
   "execution_count": 12,
   "id": "644e4753-942f-4d0d-96a4-0b3a8405bf21",
   "metadata": {},
   "outputs": [
    {
     "name": "stdout",
     "output_type": "stream",
     "text": [
      "Chave após a execução da função perm10: 1000001100\n",
      "Chave após a execução da função de left shift: 00001\n",
      "Chave após a execução da função de left shift: 11000\n",
      "Chave após a execução da função perm8: 10100100\n",
      "Chave após a execução da função de left shift: 00100\n",
      "Chave após a execução da função de left shift: 00011\n",
      "Chave após a execução da função perm8: 01000011\n",
      "Chaves K1 e K2 criadas com a função de geração de chave: 10100100 01000011\n",
      "Mensagem após a permutação inicial: 11011101\n",
      "Lado direito da mensagem após a expansão de bits: 11101011\n",
      "Matriz formada através de um XOR bit a bit entre a mensagem expandida e subchave de entrada: [['0', '1', '0', '0'], ['1', '1', '1', '1']]\n",
      "Mensagem formada após a execução da função F: 1111\n",
      "Resultado da mensagem após a rodada de Feistel: 0010\n",
      "Lado direito da mensagem após a expansão de bits: 00010100\n",
      "Matriz formada através de um XOR bit a bit entre a mensagem expandida e subchave de entrada: [['0', '1', '0', '1'], ['0', '1', '1', '1']]\n",
      "Mensagem formada após a execução da função F: 1110\n",
      "Resultado da mensagem após a rodada de Feistel: 0011\n",
      "Mensagem formada após a permutação final: 10101000\n",
      "Encriptação: 10101000\n",
      "Chave após a execução da função perm10: 1000001100\n",
      "Chave após a execução da função de left shift: 00001\n",
      "Chave após a execução da função de left shift: 11000\n",
      "Chave após a execução da função perm8: 10100100\n",
      "Chave após a execução da função de left shift: 00100\n",
      "Chave após a execução da função de left shift: 00011\n",
      "Chave após a execução da função perm8: 01000011\n",
      "Chaves K1 e K2 criadas com a função de geração de chave: 10100100 01000011\n",
      "Mensagem após a permutação inicial: 00110010\n",
      "Lado direito da mensagem após a expansão de bits: 00010100\n",
      "Matriz formada através de um XOR bit a bit entre a mensagem expandida e subchave de entrada: [['0', '1', '0', '1'], ['0', '1', '1', '1']]\n",
      "Mensagem formada após a execução da função F: 1110\n",
      "Resultado da mensagem após a rodada de Feistel: 1101\n",
      "Lado direito da mensagem após a expansão de bits: 11101011\n",
      "Matriz formada através de um XOR bit a bit entre a mensagem expandida e subchave de entrada: [['0', '1', '0', '0'], ['1', '1', '1', '1']]\n",
      "Mensagem formada após a execução da função F: 1111\n",
      "Resultado da mensagem após a rodada de Feistel: 1101\n",
      "Mensagem formada após a permutação final: 11010111\n",
      "Descriptação: 11010111\n"
     ]
    }
   ],
   "source": [
    "DSDES(SDES(\"11010111\", \"1010000010\"), \"1010000010\")\n"
   ]
  },
  {
   "cell_type": "markdown",
   "id": "33694f75-c8a9-4662-a0e4-bdd8648faccd",
   "metadata": {},
   "source": [
    "Aqui temos a execução de ambas as funções, tanto a de criptografia quanto a de descriptografia. Fiz diversos prints durante as funções para que seja possível observar o que cada função faz sobre as informações passo a passo. Com isso finalizo a apresentação do algoritmo, com a demonstração de como ele funciona."
   ]
  },
  {
   "cell_type": "code",
   "execution_count": null,
   "id": "d5726bd7-cb4f-4e52-91dc-d42d4e0e6dfd",
   "metadata": {},
   "outputs": [],
   "source": []
  }
 ],
 "metadata": {
  "kernelspec": {
   "display_name": "Python 3 (ipykernel)",
   "language": "python",
   "name": "python3"
  },
  "language_info": {
   "codemirror_mode": {
    "name": "ipython",
    "version": 3
   },
   "file_extension": ".py",
   "mimetype": "text/x-python",
   "name": "python",
   "nbconvert_exporter": "python",
   "pygments_lexer": "ipython3",
   "version": "3.11.7"
  }
 },
 "nbformat": 4,
 "nbformat_minor": 5
}
